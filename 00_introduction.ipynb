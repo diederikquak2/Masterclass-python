{
 "cells": [
  {
   "cell_type": "markdown",
   "metadata": {},
   "source": [
    "# Introduction"
   ]
  },
  {
   "cell_type": "code",
   "execution_count": null,
   "metadata": {},
   "outputs": [],
   "source": [
    "import pandas as pd\n",
    "import numpy as np"
   ]
  },
  {
   "cell_type": "markdown",
   "metadata": {},
   "source": [
    "One way to obtain Pandas DataFrames (other than reading them from file or database) is by manually creating them, as in the example below. Creating such small toy examples is useful for studying the exact behavior of API methods or our own tooling."
   ]
  },
  {
   "cell_type": "code",
   "execution_count": null,
   "metadata": {},
   "outputs": [],
   "source": [
    "transaction_df = pd.DataFrame({\n",
    "    'amount': [42., 100., 999.],\n",
    "    'from': ['bob', 'alice', 'bob'],\n",
    "    'to': ['alice', 'bob', 'alice']\n",
    "})\n",
    "transaction_df"
   ]
  },
  {
   "cell_type": "markdown",
   "metadata": {},
   "source": [
    "Below are some examples of commonly used methods from the Pandas DataFrame API with prompts to study the API docs. In this context, \"study\" doesn't mean you should fully understand and master these API methods. \"Studying\" in this sense is more of an invitation to start thinking about how these methods internally work, how Pandas as a toolset is constructed, and how you could create your own tools using similar constructs."
   ]
  },
  {
   "cell_type": "markdown",
   "metadata": {},
   "source": [
    "## Selection and Transformation"
   ]
  },
  {
   "cell_type": "markdown",
   "metadata": {},
   "source": [
    "The following statement selects all transactions with 'alice' as recipient and adds a column that doubles the transaction amount."
   ]
  },
  {
   "cell_type": "code",
   "execution_count": null,
   "metadata": {},
   "outputs": [],
   "source": [
    "(\n",
    "    transaction_df\n",
    "    .loc[lambda df: df['to'] == 'alice']  # 1\n",
    "    .assign(mod_amount=lambda df: df['amount'] * 2)  # 2\n",
    ")"
   ]
  },
  {
   "cell_type": "markdown",
   "metadata": {},
   "source": [
    "Study the [API documentation for `.loc[]`](https://pandas.pydata.org/pandas-docs/stable/reference/api/pandas.DataFrame.loc.html), and the [API documentation for `.assign()`](https://pandas.pydata.org/pandas-docs/stable/reference/api/pandas.DataFrame.assign.html).\n",
    "\n",
    "- What _is_ `loc[]` exactly? Is it a method or function? Something else entirely?\n",
    "- How does it handle the statements that are passed to these square brackets?\n",
    "- How does it have access to the DataFrame's data?\n",
    "- What is this `lambda` expression?\n",
    "- What is the `df` within the `lambda` expression?\n",
    "- Is the original `transaction_df` DataFrame modified by the above statement?\n",
    "\n",
    "Again, the prompt is not to provide an answer to these questions, but to prepare you for the content of this tutorial."
   ]
  },
  {
   "cell_type": "markdown",
   "metadata": {},
   "source": [
    "## Grouping and Aggregating"
   ]
  },
  {
   "cell_type": "code",
   "execution_count": null,
   "metadata": {},
   "outputs": [],
   "source": [
    "for recipient, recipient_df in transaction_df.groupby('to'):\n",
    "    print(f'{recipient} received a total sum of {recipient_df[\"amount\"].sum()}')"
   ]
  },
  {
   "cell_type": "code",
   "execution_count": null,
   "metadata": {},
   "outputs": [],
   "source": [
    "transaction_df.groupby('to').sum()"
   ]
  },
  {
   "cell_type": "markdown",
   "metadata": {},
   "source": [
    "Study the [API documentation for `.groupby()`](https://pandas.pydata.org/pandas-docs/stable/reference/api/pandas.DataFrame.groupby.html).\n",
    "\n",
    "- What is the result of calling `groupby()` on the DataFrame? What is being returned?\n",
    "- How is it possible that we can use that result in a `for ... in` loop?\n",
    "- How is the `sum()` aggregation created?"
   ]
  },
  {
   "cell_type": "markdown",
   "metadata": {},
   "source": [
    "## Pipelines"
   ]
  },
  {
   "cell_type": "code",
   "execution_count": null,
   "metadata": {},
   "outputs": [],
   "source": [
    "def select_amounts_greater_than(transaction_df, amount=100):\n",
    "    return transaction_df.loc[lambda df: df['amount'] > amount]\n",
    "\n",
    "transaction_df.pipe(select_amounts_greater_than, amount=99)"
   ]
  },
  {
   "cell_type": "markdown",
   "metadata": {},
   "source": [
    "Study the [API documentation for `.pipe()`](https://pandas.pydata.org/pandas-docs/stable/reference/api/pandas.DataFrame.pipe.html).\n",
    "\n",
    "- What is being passed as the first argument to `pipe()`?\n",
    "- What object or method or function is actually calling the `select_amounts_greater_than()` function?\n",
    "- What is being returned by `pipe()`?"
   ]
  }
 ],
 "metadata": {
  "kernelspec": {
   "display_name": "Python 3",
   "language": "python",
   "name": "python3"
  },
  "language_info": {
   "codemirror_mode": {
    "name": "ipython",
    "version": 3
   },
   "file_extension": ".py",
   "mimetype": "text/x-python",
   "name": "python",
   "nbconvert_exporter": "python",
   "pygments_lexer": "ipython3",
   "version": "3.8.5"
  }
 },
 "nbformat": 4,
 "nbformat_minor": 4
}
