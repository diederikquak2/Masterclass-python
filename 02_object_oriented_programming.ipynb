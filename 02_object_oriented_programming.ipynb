{
 "cells": [
  {
   "cell_type": "markdown",
   "metadata": {},
   "source": [
    "# Object-Oriented Programming"
   ]
  },
  {
   "cell_type": "markdown",
   "metadata": {},
   "source": [
    "Let's pretend that there isn't any package for linear algebra such as [numpy.linalg](https://numpy.org/doc/stable/reference/routines.linalg.html), and we'd like to implement vector-like behavior for collections of numbers. Intuitively, a `list` seems to be useful for representing vectors:"
   ]
  },
  {
   "cell_type": "code",
   "execution_count": null,
   "metadata": {},
   "outputs": [],
   "source": [
    "v1 = [1, 2]\n",
    "v2 = [-1, 2]"
   ]
  },
  {
   "cell_type": "markdown",
   "metadata": {},
   "source": [
    "When multiplying a vector with a scalar (i.e., changing its magnitude), we expect each component of the vector to be multiplied by that scalar. What happens when we use the multiplication operator on a list?"
   ]
  },
  {
   "cell_type": "code",
   "execution_count": null,
   "metadata": {},
   "outputs": [],
   "source": [
    "v1 * 2"
   ]
  },
  {
   "cell_type": "markdown",
   "metadata": {},
   "source": [
    "This is not useful: the multiplication operator `*` for a list creates `n` copies of the list `l` when used as `l * n`. A similar problem arises when using the addition operator `+`, which concatenates the two lists instead of doing pairwise addition of their elements."
   ]
  },
  {
   "cell_type": "code",
   "execution_count": null,
   "metadata": {},
   "outputs": [],
   "source": [
    "v1 + v2"
   ]
  },
  {
   "cell_type": "markdown",
   "metadata": {},
   "source": [
    "What we want is to be able to define custom multiplication or addition behavior that is intimately related to a vector and its components (its data). In Object-Oriented Programming, a _class_ is a construct for exactly this purpose."
   ]
  },
  {
   "cell_type": "markdown",
   "metadata": {},
   "source": [
    "## Classes = Data + Behavior"
   ]
  },
  {
   "cell_type": "markdown",
   "metadata": {},
   "source": [
    "Classes are defined using the `class` keyword. When \"calling\" a class (using the parantheses, just like calling a function), a new _object_ is created with the type of that class."
   ]
  },
  {
   "cell_type": "code",
   "execution_count": null,
   "metadata": {},
   "outputs": [],
   "source": [
    "class Foo:\n",
    "    pass"
   ]
  },
  {
   "cell_type": "code",
   "execution_count": null,
   "metadata": {},
   "outputs": [],
   "source": [
    "f = Foo()\n",
    "type(f)"
   ]
  },
  {
   "cell_type": "markdown",
   "metadata": {},
   "source": [
    "As seen before, every object has _attributes_:"
   ]
  },
  {
   "cell_type": "code",
   "execution_count": null,
   "metadata": {},
   "outputs": [],
   "source": [
    "dir(f)"
   ]
  },
  {
   "cell_type": "markdown",
   "metadata": {},
   "source": [
    "We can assign (new) attributes to objects using the `.` operator:"
   ]
  },
  {
   "cell_type": "code",
   "execution_count": null,
   "metadata": {},
   "outputs": [],
   "source": [
    "f.x = 42\n",
    "f.x"
   ]
  },
  {
   "cell_type": "markdown",
   "metadata": {},
   "source": [
    "It is also possible to assign _functions_ to a class. Note the subtle change in type when referring to the function itself (or as an attribute of the class) vs. when referring to it as an attribute of the _object_ `f`:"
   ]
  },
  {
   "cell_type": "code",
   "execution_count": null,
   "metadata": {},
   "outputs": [],
   "source": [
    "def bar(foo_obj):\n",
    "    return foo_obj.x * 2\n",
    "\n",
    "Foo.bar = bar\n",
    "type(bar), type(Foo.bar), type(f.bar)"
   ]
  },
  {
   "cell_type": "markdown",
   "metadata": {},
   "source": [
    "The \"magic\" that happens here is that when a function is an attribute of a class, it becomes a _(bound) method_ of objects of that class. When a method is bound to an object, Python passes the object itself as the first argument when calling the method:"
   ]
  },
  {
   "cell_type": "code",
   "execution_count": null,
   "metadata": {},
   "outputs": [],
   "source": [
    "bar(f)"
   ]
  },
  {
   "cell_type": "code",
   "execution_count": null,
   "metadata": {},
   "outputs": [],
   "source": [
    "f.bar()  # No arguments are passed to bar! "
   ]
  },
  {
   "cell_type": "markdown",
   "metadata": {},
   "source": [
    "It is not common to manually add functions as attributes to a class as in the example above. Instead, we usually define functions in the class body. It is a convention to use `self` as the name of the first argument that captures the object to which the method is bound."
   ]
  },
  {
   "cell_type": "code",
   "execution_count": null,
   "metadata": {},
   "outputs": [],
   "source": [
    "class Point2D:\n",
    "    def __init__(self, x, y):\n",
    "        self.x = x\n",
    "        self.y = y\n",
    "    \n",
    "    def distance_to_origin(self):\n",
    "        return (self.x ** 2 + self.y ** 2) ** .5"
   ]
  },
  {
   "cell_type": "markdown",
   "metadata": {},
   "source": [
    "That strangely-looking `__init__()` function is one of the mostly used [\"magic methods\"](https://rszalski.github.io/magicmethods/) (also called \"dunder methods\" for their \"__d__ouble __under__score\" naming convention). Whenever we construct a new `Point2D` object, Python will look for the object's `__init__()` method and pass through the arguments provided to the constructor:"
   ]
  },
  {
   "cell_type": "code",
   "execution_count": null,
   "metadata": {},
   "outputs": [],
   "source": [
    "p1 = Point2D(3, 4)"
   ]
  },
  {
   "cell_type": "code",
   "execution_count": null,
   "metadata": {},
   "outputs": [],
   "source": [
    "p1.x"
   ]
  },
  {
   "cell_type": "code",
   "execution_count": null,
   "metadata": {},
   "outputs": [],
   "source": [
    "p1.distance_to_origin()"
   ]
  },
  {
   "cell_type": "markdown",
   "metadata": {},
   "source": [
    "Having several `Point2D` objects, what happens when we try to check if they're equal?"
   ]
  },
  {
   "cell_type": "code",
   "execution_count": null,
   "metadata": {},
   "outputs": [],
   "source": [
    "p2 = Point2D(3, 4)"
   ]
  },
  {
   "cell_type": "code",
   "execution_count": null,
   "metadata": {},
   "outputs": [],
   "source": [
    "p2 is p1"
   ]
  },
  {
   "cell_type": "code",
   "execution_count": null,
   "metadata": {},
   "outputs": [],
   "source": [
    "p2 == p1"
   ]
  },
  {
   "cell_type": "markdown",
   "metadata": {},
   "source": [
    "__Question__: Does the result of value equality surprise you? Why would the two identical points be considered unequal? How should Python know what makes two objects of the same type equal by value?"
   ]
  },
  {
   "cell_type": "markdown",
   "metadata": {},
   "source": [
    "Their (human-readable) representation is also not entirely clear:"
   ]
  },
  {
   "cell_type": "code",
   "execution_count": null,
   "metadata": {},
   "outputs": [],
   "source": [
    "p1"
   ]
  },
  {
   "cell_type": "markdown",
   "metadata": {},
   "source": [
    "Just as `__init__()`, there are magic methods to define equality and representation of an object:"
   ]
  },
  {
   "cell_type": "code",
   "execution_count": null,
   "metadata": {},
   "outputs": [],
   "source": [
    "class Point2D(object):\n",
    "    def __init__(self, x, y):\n",
    "        self.x = x\n",
    "        self.y = y\n",
    "    \n",
    "    def distance_to_origin(self):\n",
    "        return (self.x ** 2 + self.y ** 2) ** .5\n",
    "    \n",
    "    def __eq__(self, other):\n",
    "        if isinstance(other, Point2D):\n",
    "            return self.x == other.x and self.y == other.y\n",
    "        else:\n",
    "            return False\n",
    "        \n",
    "    def __repr__(self):\n",
    "        return f'{self.__class__.__name__}({self.x}, {self.y})'"
   ]
  },
  {
   "cell_type": "code",
   "execution_count": null,
   "metadata": {},
   "outputs": [],
   "source": [
    "p1 = Point2D(3, 4)\n",
    "p2 = Point2D(3, 4)"
   ]
  },
  {
   "cell_type": "markdown",
   "metadata": {},
   "source": [
    "The `__repr__()` method is automatically called when this notebook is trying to represent any of our `Point2D` objects:"
   ]
  },
  {
   "cell_type": "code",
   "execution_count": null,
   "metadata": {},
   "outputs": [],
   "source": [
    "p1"
   ]
  },
  {
   "cell_type": "markdown",
   "metadata": {},
   "source": [
    "Whenever Python encounters a statement `obj1 == obj2`, it will look for an `__eq__()` method on `obj1` and return whatever the result is when passing it `obj2`. There are similar magic methods for comparison that are triggered when encountering operators such as `<`, `>=`, etc. These are called _rich comparison methods_, and are (just as `__eq__()` _not_ implemented by default!"
   ]
  },
  {
   "cell_type": "code",
   "execution_count": null,
   "metadata": {},
   "outputs": [],
   "source": [
    "p1 == p2"
   ]
  },
  {
   "cell_type": "markdown",
   "metadata": {},
   "source": [
    "To prevent lots of repetitive code for initialization, comparison, and representation, modern Python (since version 3.7) has [_data classes_](https://docs.python.org/3/library/dataclasses.html). These provide sensible default implementations for object initialization, representation, and equality checks.\n",
    "\n",
    "To make a data class, we just need to decorate a class with the `@dataclass` decorator (decorators will be explained later)."
   ]
  },
  {
   "cell_type": "code",
   "execution_count": null,
   "metadata": {},
   "outputs": [],
   "source": [
    "from dataclasses import dataclass"
   ]
  },
  {
   "cell_type": "code",
   "execution_count": null,
   "metadata": {},
   "outputs": [],
   "source": [
    "@dataclass\n",
    "class Point2D:\n",
    "    x: float\n",
    "    y: float\n",
    "    \n",
    "    def distance_to_origin(self) -> float:\n",
    "        return (self.x ** 2 + self.y ** 2) ** .5"
   ]
  },
  {
   "cell_type": "code",
   "execution_count": null,
   "metadata": {},
   "outputs": [],
   "source": [
    "p1 = Point2D(3, 4)\n",
    "p2 = Point2D(3, 4)\n",
    "p1.x"
   ]
  },
  {
   "cell_type": "code",
   "execution_count": null,
   "metadata": {},
   "outputs": [],
   "source": [
    "p1"
   ]
  },
  {
   "cell_type": "code",
   "execution_count": null,
   "metadata": {},
   "outputs": [],
   "source": [
    "p1 == p2"
   ]
  },
  {
   "cell_type": "markdown",
   "metadata": {},
   "source": [
    "Data classes require that its member attributes (in our case `x` and `y`) have their type specified using _type annotations_."
   ]
  },
  {
   "cell_type": "markdown",
   "metadata": {},
   "source": [
    "## Type Hints"
   ]
  },
  {
   "cell_type": "markdown",
   "metadata": {},
   "source": [
    "A full discussion of [type hints](https://docs.python.org/3/library/typing.html) is beyond the scope of this tutorial. Since Python 3.5, it is possible to indicate the type of variables, function arguments and return values, and class members."
   ]
  },
  {
   "cell_type": "code",
   "execution_count": null,
   "metadata": {},
   "outputs": [],
   "source": [
    "def add_one(x: int) -> int:\n",
    "    return x + 1"
   ]
  },
  {
   "cell_type": "code",
   "execution_count": null,
   "metadata": {},
   "outputs": [],
   "source": [
    "add_one(42)"
   ]
  },
  {
   "cell_type": "code",
   "execution_count": null,
   "metadata": {},
   "outputs": [],
   "source": [
    "add_one('foo')"
   ]
  },
  {
   "cell_type": "markdown",
   "metadata": {},
   "source": [
    "Providing type hints is optional in most cases, but required in case of data classes!"
   ]
  },
  {
   "cell_type": "markdown",
   "metadata": {},
   "source": [
    "## Composition"
   ]
  },
  {
   "cell_type": "markdown",
   "metadata": {},
   "source": [
    "Objects can be composed of (multiple) other objects, just as the built-in container types discussed before."
   ]
  },
  {
   "cell_type": "code",
   "execution_count": null,
   "metadata": {},
   "outputs": [],
   "source": [
    "import math"
   ]
  },
  {
   "cell_type": "markdown",
   "metadata": {},
   "source": [
    "A circle has a point in space which is its center:"
   ]
  },
  {
   "cell_type": "code",
   "execution_count": null,
   "metadata": {},
   "outputs": [],
   "source": [
    "@dataclass\n",
    "class Circle:\n",
    "    center: Point2D\n",
    "    radius: float\n",
    "    \n",
    "    def circumference(self):\n",
    "        return 2 * math.pi * radius"
   ]
  },
  {
   "cell_type": "markdown",
   "metadata": {},
   "source": [
    "When we add a method to our `Point2D` class to compute the distance to another point, suddenly we can easily find out if a given point is within a circle:"
   ]
  },
  {
   "cell_type": "code",
   "execution_count": null,
   "metadata": {},
   "outputs": [],
   "source": [
    "@dataclass\n",
    "class Point2D:\n",
    "    x: float\n",
    "    y: float\n",
    "    \n",
    "    def distance_to_origin(self) -> float:\n",
    "        return (self.x ** 2 + self.y ** 2) ** .5\n",
    "    \n",
    "    def distance_from(self, other: Point2D) -> float:\n",
    "        return ((self.x - other.x) ** 2 + (self.y - other.y) ** 2) ** .5\n",
    "\n",
    "@dataclass\n",
    "class Circle:\n",
    "    center: Point2D\n",
    "    radius: float\n",
    "    \n",
    "    def circumference(self):\n",
    "        return 2 * math.pi * self.radius\n",
    "    \n",
    "    def __contains__(self, point: Point2D):\n",
    "        return self.center.distance_from(point) <= self.radius"
   ]
  },
  {
   "cell_type": "markdown",
   "metadata": {},
   "source": [
    "Using magic methods such as `__contains__()` allows us to write surprisingly elegant code:"
   ]
  },
  {
   "cell_type": "code",
   "execution_count": null,
   "metadata": {},
   "outputs": [],
   "source": [
    "c = Circle(center=Point2D(3, 4), radius=1)\n",
    "assert Point2D(3.5, 4) in c\n",
    "assert Point2D(5, 4) not in c"
   ]
  },
  {
   "cell_type": "markdown",
   "metadata": {},
   "source": [
    "The `assert` keyword makes Python evaluate the expression following it, raise an `AssertionError` when it evaluates to `False`, or pass silently when evaluating to `True`:"
   ]
  },
  {
   "cell_type": "code",
   "execution_count": null,
   "metadata": {},
   "outputs": [],
   "source": [
    "assert 1 < 2"
   ]
  },
  {
   "cell_type": "code",
   "execution_count": null,
   "metadata": {},
   "outputs": [],
   "source": [
    "assert 1 > 2"
   ]
  },
  {
   "cell_type": "markdown",
   "metadata": {},
   "source": [
    "## Composition of a Pandas DataFrame"
   ]
  },
  {
   "cell_type": "code",
   "execution_count": null,
   "metadata": {},
   "outputs": [],
   "source": [
    "import pandas as pd"
   ]
  },
  {
   "cell_type": "code",
   "execution_count": null,
   "metadata": {},
   "outputs": [],
   "source": [
    "transaction_df = pd.DataFrame({\n",
    "    'amount': [42., 100., 999.],\n",
    "    'from': ['bob', 'alice', 'bob'],\n",
    "    'to': ['alice', 'bob', 'alice']\n",
    "})\n",
    "transaction_df"
   ]
  },
  {
   "cell_type": "code",
   "execution_count": null,
   "metadata": {},
   "outputs": [],
   "source": [
    "type(transaction_df)"
   ]
  },
  {
   "cell_type": "code",
   "execution_count": null,
   "metadata": {},
   "outputs": [],
   "source": [
    "transaction_df.columns"
   ]
  },
  {
   "cell_type": "code",
   "execution_count": null,
   "metadata": {},
   "outputs": [],
   "source": [
    "transaction_df.amount"
   ]
  },
  {
   "cell_type": "code",
   "execution_count": null,
   "metadata": {},
   "outputs": [],
   "source": [
    "transaction_df['amount']"
   ]
  },
  {
   "cell_type": "code",
   "execution_count": null,
   "metadata": {},
   "outputs": [],
   "source": [
    "type(transaction_df['amount'])"
   ]
  },
  {
   "cell_type": "code",
   "execution_count": null,
   "metadata": {},
   "outputs": [],
   "source": [
    "transaction_df['amount'][0], type(transaction_df['amount'][0])"
   ]
  },
  {
   "cell_type": "code",
   "execution_count": null,
   "metadata": {},
   "outputs": [],
   "source": [
    "dir(transaction_df)"
   ]
  },
  {
   "cell_type": "markdown",
   "metadata": {},
   "source": [
    "## Index-based (or Label-based) Selection and Assignment"
   ]
  },
  {
   "cell_type": "code",
   "execution_count": null,
   "metadata": {},
   "outputs": [],
   "source": [
    "transaction_df = pd.DataFrame({\n",
    "    'amount': [42., 100., 999.],\n",
    "    'from': ['bob', 'alice', 'bob'],\n",
    "    'to': ['alice', 'bob', 'alice']\n",
    "})\n",
    "transaction_df"
   ]
  },
  {
   "cell_type": "code",
   "execution_count": null,
   "metadata": {},
   "outputs": [],
   "source": [
    "transaction_df.index"
   ]
  },
  {
   "cell_type": "code",
   "execution_count": null,
   "metadata": {},
   "outputs": [],
   "source": [
    "transaction_df.loc[1]"
   ]
  },
  {
   "cell_type": "code",
   "execution_count": null,
   "metadata": {},
   "outputs": [],
   "source": [
    "transaction_df.loc[[0, 2]]"
   ]
  },
  {
   "cell_type": "code",
   "execution_count": null,
   "metadata": {},
   "outputs": [],
   "source": [
    "transaction_df = pd.DataFrame({\n",
    "    'amount': [42., 100., 999.],\n",
    "    'from': ['bob', 'alice', 'bob'],\n",
    "    'to': ['alice', 'bob', 'alice']\n",
    "}, index=[2, 4, 6])\n",
    "transaction_df"
   ]
  },
  {
   "cell_type": "code",
   "execution_count": null,
   "metadata": {},
   "outputs": [],
   "source": [
    "transaction_df.loc[1]"
   ]
  },
  {
   "cell_type": "code",
   "execution_count": null,
   "metadata": {},
   "outputs": [],
   "source": [
    "transaction_messages = pd.Series(['foo', 'bar', 'baz'])\n",
    "transaction_messages"
   ]
  },
  {
   "cell_type": "code",
   "execution_count": null,
   "metadata": {},
   "outputs": [],
   "source": [
    "transaction_df.assign(message=transaction_messages)"
   ]
  },
  {
   "cell_type": "code",
   "execution_count": null,
   "metadata": {},
   "outputs": [],
   "source": [
    "transaction_messages = pd.Series(['foo', 'bar', 'baz'], index=[2, 4, 6])\n",
    "transaction_df.assign(message=transaction_messages)"
   ]
  },
  {
   "cell_type": "code",
   "execution_count": null,
   "metadata": {},
   "outputs": [],
   "source": [
    "transaction_df.reset_index()"
   ]
  },
  {
   "cell_type": "code",
   "execution_count": null,
   "metadata": {},
   "outputs": [],
   "source": [
    "transaction_df = pd.DataFrame({\n",
    "    'amount': [42., 100., 999.],\n",
    "    'from': ['bob', 'alice', 'bob'],\n",
    "    'to': ['alice', 'bob', 'alice'],\n",
    "    'tx_id': [101, 201, 301]\n",
    "})\n",
    "transaction_df"
   ]
  },
  {
   "cell_type": "code",
   "execution_count": null,
   "metadata": {},
   "outputs": [],
   "source": [
    "transaction_df.set_index('tx_id')"
   ]
  },
  {
   "cell_type": "code",
   "execution_count": null,
   "metadata": {},
   "outputs": [],
   "source": [
    "import numpy as np"
   ]
  },
  {
   "cell_type": "code",
   "execution_count": null,
   "metadata": {},
   "outputs": [],
   "source": [
    "df_size = 100_000\n",
    "\n",
    "foo_df = pd.DataFrame({\n",
    "    'a': np.arange(df_size),\n",
    "    'b': np.random.permutation(df_size)\n",
    "})\n",
    "foo_df"
   ]
  },
  {
   "cell_type": "markdown",
   "metadata": {},
   "source": [
    "Why indexing?"
   ]
  },
  {
   "cell_type": "code",
   "execution_count": null,
   "metadata": {},
   "outputs": [],
   "source": [
    "%%timeit\n",
    "for n in np.random.choice(df_size, size=10):\n",
    "    foo_df.loc[lambda df: df['b'] == n]"
   ]
  },
  {
   "cell_type": "code",
   "execution_count": null,
   "metadata": {},
   "outputs": [],
   "source": [
    "%timeit foo_df.loc[lambda df: df['b'] == 42]"
   ]
  },
  {
   "cell_type": "code",
   "execution_count": null,
   "metadata": {},
   "outputs": [],
   "source": [
    "idx_foo_df = foo_df.set_index('b')"
   ]
  },
  {
   "cell_type": "code",
   "execution_count": null,
   "metadata": {},
   "outputs": [],
   "source": [
    "%timeit big_foo_df = foo_df.set_index('b')"
   ]
  },
  {
   "cell_type": "code",
   "execution_count": null,
   "metadata": {},
   "outputs": [],
   "source": [
    "%%timeit\n",
    "for n in np.random.choice(df_size, size=10):\n",
    "    idx_big_foo_df.loc[n]"
   ]
  },
  {
   "cell_type": "code",
   "execution_count": null,
   "metadata": {},
   "outputs": [],
   "source": [
    "%timeit idx_foo_df.loc[42]"
   ]
  },
  {
   "cell_type": "markdown",
   "metadata": {},
   "source": [
    "## Inheritance"
   ]
  },
  {
   "cell_type": "code",
   "execution_count": null,
   "metadata": {},
   "outputs": [],
   "source": [
    "@dataclass\n",
    "class Square:\n",
    "    center: Point2D\n",
    "    side_length: float\n",
    "    \n",
    "    def circumference(self):\n",
    "        return 4 * self.side_length\n",
    "    \n",
    "    def __contains__(self, point: Point2D):\n",
    "        return (\n",
    "            point.x <= self.center.x + self.side_length / 2 and\n",
    "            point.x >= self.center.x - self.side_length / 2 and\n",
    "            point.y <= self.center.y + self.side_length / 2 and\n",
    "            point.x >= self.center.y - self.side_length / 2\n",
    "        )"
   ]
  },
  {
   "cell_type": "code",
   "execution_count": null,
   "metadata": {},
   "outputs": [],
   "source": [
    "from abc import ABC, abstractmethod"
   ]
  },
  {
   "cell_type": "code",
   "execution_count": null,
   "metadata": {},
   "outputs": [],
   "source": [
    "@dataclass\n",
    "class Shape2D(ABC):\n",
    "    center: Point2D\n",
    "    \n",
    "    @abstractmethod\n",
    "    def circumference(self):\n",
    "        pass\n",
    "    \n",
    "    @abstractmethod\n",
    "    def __contains__(self, point: Point2D):\n",
    "        pass\n",
    "    \n",
    "    def distance_to_origin(self):\n",
    "        return self.center.distance_to_origin()"
   ]
  },
  {
   "cell_type": "code",
   "execution_count": null,
   "metadata": {},
   "outputs": [],
   "source": [
    "s = Shape2D()"
   ]
  },
  {
   "cell_type": "code",
   "execution_count": null,
   "metadata": {},
   "outputs": [],
   "source": [
    "@dataclass\n",
    "class Circle(Shape2D):\n",
    "    radius: float\n",
    "    \n",
    "    def circumference(self):\n",
    "        return 2 * math.pi * self.radius\n",
    "\n",
    "c = Circle(Point2D(3, 4), 1)"
   ]
  },
  {
   "cell_type": "code",
   "execution_count": null,
   "metadata": {},
   "outputs": [],
   "source": [
    "@dataclass\n",
    "class Circle(Shape2D):\n",
    "    radius: float\n",
    "    \n",
    "    def circumference(self):\n",
    "        return 2 * math.pi * self.radius\n",
    "    \n",
    "    def __contains__(self, point: Point2D):\n",
    "        return self.center.distance_from(point) <= self.radius\n",
    "\n",
    "@dataclass\n",
    "class Square(Shape2D):\n",
    "    side_length: float\n",
    "    \n",
    "    def circumference(self):\n",
    "        return 4 * self.side_length\n",
    "    \n",
    "    def __contains__(self, point: Point2D):\n",
    "        return (\n",
    "            point.x <= self.center.x + self.side_length / 2 and\n",
    "            point.x >= self.center.x - self.side_length / 2 and\n",
    "            point.y <= self.center.y + self.side_length / 2 and\n",
    "            point.x >= self.center.y - self.side_length / 2\n",
    "        )"
   ]
  },
  {
   "cell_type": "markdown",
   "metadata": {},
   "source": [
    "Not _required_ to have abc, just convenient and clear"
   ]
  },
  {
   "cell_type": "code",
   "execution_count": null,
   "metadata": {},
   "outputs": [],
   "source": [
    "from typing import List\n",
    "\n",
    "def total_size(shapes: List[Shape2D]) -> float:\n",
    "    return sum(s.circumference() for s in shapes)"
   ]
  },
  {
   "cell_type": "code",
   "execution_count": null,
   "metadata": {},
   "outputs": [],
   "source": [
    "total_size([\n",
    "    Circle(Point2D(3, 4), 1),\n",
    "    Square(Point2D(0, 0), 2)\n",
    "])"
   ]
  },
  {
   "cell_type": "markdown",
   "metadata": {},
   "source": [
    "sklearn estimators?"
   ]
  },
  {
   "cell_type": "markdown",
   "metadata": {},
   "source": [
    "## Iterating"
   ]
  },
  {
   "cell_type": "code",
   "execution_count": null,
   "metadata": {},
   "outputs": [],
   "source": [
    "@dataclass\n",
    "class IntRange:\n",
    "    upper_bound: int\n",
    "    \n",
    "    def __iter__(self):\n",
    "        self.i = 0\n",
    "        return self\n",
    "    \n",
    "    def __next__(self):\n",
    "        if self.i >= self.upper_bound:\n",
    "            raise StopIteration\n",
    "            \n",
    "        current_value = self.i\n",
    "        self.i += 1\n",
    "        return current_value"
   ]
  },
  {
   "cell_type": "code",
   "execution_count": null,
   "metadata": {},
   "outputs": [],
   "source": [
    "r = IntRange(3)\n",
    "r_iter = r.__iter__()"
   ]
  },
  {
   "cell_type": "code",
   "execution_count": null,
   "metadata": {},
   "outputs": [],
   "source": [
    "r_iter.__next__()"
   ]
  },
  {
   "cell_type": "code",
   "execution_count": null,
   "metadata": {},
   "outputs": [],
   "source": [
    "l_iter = iter([1, 2, 3])"
   ]
  },
  {
   "cell_type": "code",
   "execution_count": null,
   "metadata": {},
   "outputs": [],
   "source": [
    "r_iter = iter(IntRange(3))\n",
    "while True:\n",
    "    try:\n",
    "        print(next(r_iter))\n",
    "    except StopIteration:\n",
    "        print('Finished iterating!')\n",
    "        break"
   ]
  },
  {
   "cell_type": "code",
   "execution_count": null,
   "metadata": {},
   "outputs": [],
   "source": [
    "for i in IntRange(3):\n",
    "    print(i * 2)"
   ]
  },
  {
   "cell_type": "code",
   "execution_count": null,
   "metadata": {},
   "outputs": [],
   "source": [
    "[i ** 2 for i in IntRange(3)]"
   ]
  },
  {
   "cell_type": "markdown",
   "metadata": {},
   "source": [
    "Ref to `range()`!"
   ]
  },
  {
   "cell_type": "code",
   "execution_count": null,
   "metadata": {},
   "outputs": [],
   "source": [
    "from typing import List"
   ]
  },
  {
   "cell_type": "code",
   "execution_count": null,
   "metadata": {},
   "outputs": [],
   "source": [
    "Square(Point2D(0, 0), 2).__class__.__name__"
   ]
  },
  {
   "cell_type": "code",
   "execution_count": null,
   "metadata": {},
   "outputs": [],
   "source": [
    "@dataclass\n",
    "class ShapeGrouper:\n",
    "    shapes: List[Shape2D]\n",
    "    \n",
    "    def __iter__(self):\n",
    "        self.shape_type_iter = iter(set([shape.__class__.__name__ for shape in self.shapes]))\n",
    "        return self\n",
    "    \n",
    "    def __next__(self):\n",
    "        shape_type = next(self.shape_type_iter)\n",
    "        return shape_type, [shape for shape in self.shapes if shape.__class__.__name__ == shape_type]"
   ]
  },
  {
   "cell_type": "markdown",
   "metadata": {},
   "source": [
    "__Bonus Exercise__: What happens if our list of shapes is long, having many unique shape types? Can we make our implementation more efficient by using a dictionary for quickly looking up all shapes of a given type? \n",
    "\n",
    "_Hint_: [`collections.defaultdict()`](https://docs.python.org/3/library/collections.html#collections.defaultdict) from the standard library may be particularly useful in this case."
   ]
  },
  {
   "cell_type": "code",
   "execution_count": null,
   "metadata": {},
   "outputs": [],
   "source": [
    "# Your solution:"
   ]
  },
  {
   "cell_type": "code",
   "execution_count": null,
   "metadata": {},
   "outputs": [],
   "source": [
    "# %load solutions/shape_grouper_efficient.py"
   ]
  },
  {
   "cell_type": "code",
   "execution_count": null,
   "metadata": {},
   "outputs": [],
   "source": [
    "grouper = ShapeGrouper([\n",
    "    Square(Point2D(1, 1), 1),\n",
    "    Circle(Point2D(3, 4), 1),\n",
    "    Square(Point2D(0, 0), 2)\n",
    "])"
   ]
  },
  {
   "cell_type": "code",
   "execution_count": null,
   "metadata": {},
   "outputs": [],
   "source": [
    "for shape_type, shape_list in grouper:\n",
    "    print(f'{shape_type}: {shape_list}')"
   ]
  },
  {
   "cell_type": "code",
   "execution_count": null,
   "metadata": {},
   "outputs": [],
   "source": [
    "@dataclass\n",
    "class ShapeGrouper:\n",
    "    shapes: List[Shape2D]\n",
    "    \n",
    "    def __iter__(self):\n",
    "        self.shape_type_iter = iter(set([shape.__class__.__name__ for shape in self.shapes]))\n",
    "        return self\n",
    "    \n",
    "    def __next__(self):\n",
    "        shape_type = next(self.shape_type_iter)\n",
    "        return shape_type, [shape for shape in self.shapes if shape.__class__.__name__ == shape_type]\n",
    "    \n",
    "    def total_size(self):\n",
    "        return [\n",
    "            (shape_type, sum([shape.circumference() for shape in shapes]))\n",
    "            for shape_type, shapes in self\n",
    "        ]"
   ]
  },
  {
   "cell_type": "code",
   "execution_count": null,
   "metadata": {},
   "outputs": [],
   "source": [
    "grouper = ShapeGrouper([\n",
    "    Square(Point2D(1, 1), 1),\n",
    "    Circle(Point2D(3, 4), 1),\n",
    "    Square(Point2D(0, 0), 2)\n",
    "])"
   ]
  },
  {
   "cell_type": "code",
   "execution_count": null,
   "metadata": {},
   "outputs": [],
   "source": [
    "grouper.total_size()"
   ]
  },
  {
   "cell_type": "code",
   "execution_count": null,
   "metadata": {},
   "outputs": [],
   "source": [
    "transaction_df"
   ]
  },
  {
   "cell_type": "code",
   "execution_count": null,
   "metadata": {},
   "outputs": [],
   "source": [
    "type(transaction_df.groupby('to'))"
   ]
  },
  {
   "cell_type": "code",
   "execution_count": null,
   "metadata": {},
   "outputs": [],
   "source": [
    "for receiver, receiver_transactions in transaction_df.groupby('to'):\n",
    "    print(f'{receiver} got a total amount of {receiver_transactions[\"amount\"].sum()}')"
   ]
  },
  {
   "cell_type": "code",
   "execution_count": null,
   "metadata": {},
   "outputs": [],
   "source": [
    "transaction_df.groupby('to').sum()"
   ]
  },
  {
   "cell_type": "markdown",
   "metadata": {},
   "source": [
    "## Operator (or Method) Chaining"
   ]
  },
  {
   "cell_type": "markdown",
   "metadata": {},
   "source": [
    "__Exercise__: Create a class `Vector` that implements the addition and multiplication behavior as given at the top of this module. Use the assertions below to verify the correctness of your solution.\n",
    "\n",
    "_Hints_: \n",
    "\n",
    "1. There are [some magic methods](https://docs.python.org/3/reference/datamodel.html#emulating-numeric-types) to provide an implementation of numeric operators on custom classes.\n",
    "2. For the addition of vectors, [`zip()`](https://docs.python.org/3/library/functions.html#zip) can be a useful built-in function."
   ]
  },
  {
   "cell_type": "code",
   "execution_count": null,
   "metadata": {},
   "outputs": [],
   "source": [
    "# Your solution:"
   ]
  },
  {
   "cell_type": "code",
   "execution_count": null,
   "metadata": {},
   "outputs": [],
   "source": [
    "# %load solutions/vector_basic.py"
   ]
  },
  {
   "cell_type": "code",
   "execution_count": null,
   "metadata": {},
   "outputs": [],
   "source": [
    "v1 = Vector([1., 2.])\n",
    "v2 = Vector([2., 4.])\n",
    "v3 = Vector([3.5, 4.5])\n",
    "v4 = Vector([1, 2, 3])\n",
    "\n",
    "assert v1 + v1 == v2\n",
    "assert v1 * 2 == v2\n",
    "assert v1 * 2 + v3 == Vector([5.5, 8.5])\n",
    "assert v1 + v3 * 2 == Vector([8, 11])\n",
    "assert v4 + v4 == Vector([2, 4, 6])"
   ]
  },
  {
   "cell_type": "markdown",
   "metadata": {},
   "source": [
    "_Reflection_: Why is it convenient that our addition and multiplication methods return (new) `Vector` objects?"
   ]
  },
  {
   "cell_type": "markdown",
   "metadata": {},
   "source": [
    "__Bonus Exercise__: Add methods to the `Vector` class such that it (1) also implements a lookup by dimension just as we index a list using `[]`, and (2) it can return its number of dimensions using the builtin function `len()`.\n",
    "\n",
    "_Hint_: There are [some magic methods](https://docs.python.org/3/reference/datamodel.html#emulating-container-types) for implementing container-like behavior for custom classes."
   ]
  },
  {
   "cell_type": "code",
   "execution_count": null,
   "metadata": {},
   "outputs": [],
   "source": [
    "# Your solution:"
   ]
  },
  {
   "cell_type": "code",
   "execution_count": null,
   "metadata": {},
   "outputs": [],
   "source": [
    "# %load solutions/vector_as_container.py"
   ]
  },
  {
   "cell_type": "code",
   "execution_count": null,
   "metadata": {},
   "outputs": [],
   "source": [
    "v5 = Vector([42, 99])\n",
    "assert v5[0] == 42\n",
    "assert len(v5) == 2\n",
    "assert (v5 + Vector([1, 1]) * 2)[1] == 101"
   ]
  },
  {
   "cell_type": "markdown",
   "metadata": {},
   "source": [
    "Reflection: `.loc[]`, pandas method chaining"
   ]
  },
  {
   "cell_type": "code",
   "execution_count": null,
   "metadata": {},
   "outputs": [],
   "source": [
    "transaction_df.loc[transaction_df['to'] == 'alice']"
   ]
  },
  {
   "cell_type": "code",
   "execution_count": null,
   "metadata": {},
   "outputs": [],
   "source": [
    "type(transaction_df.loc[transaction_df['to'] == 'alice'])"
   ]
  },
  {
   "cell_type": "code",
   "execution_count": null,
   "metadata": {},
   "outputs": [],
   "source": [
    "transaction_df['to'] == 'alice'"
   ]
  },
  {
   "cell_type": "code",
   "execution_count": null,
   "metadata": {},
   "outputs": [],
   "source": [
    "transaction_df.loc[[0, 2]]"
   ]
  },
  {
   "cell_type": "code",
   "execution_count": null,
   "metadata": {},
   "outputs": [],
   "source": [
    "(\n",
    "    transaction_df\n",
    "    .loc[lambda df: df['to'] == 'alice']\n",
    "    .assign(amount=lambda df: df['amount'] * 2)\n",
    ")"
   ]
  }
 ],
 "metadata": {
  "kernelspec": {
   "display_name": "Python 3",
   "language": "python",
   "name": "python3"
  },
  "language_info": {
   "codemirror_mode": {
    "name": "ipython",
    "version": 3
   },
   "file_extension": ".py",
   "mimetype": "text/x-python",
   "name": "python",
   "nbconvert_exporter": "python",
   "pygments_lexer": "ipython3",
   "version": "3.8.5"
  }
 },
 "nbformat": 4,
 "nbformat_minor": 4
}
